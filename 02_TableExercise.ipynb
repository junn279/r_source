{
 "cells": [
  {
   "cell_type": "markdown",
   "metadata": {},
   "source": [
    "# Tidyr / Dplyr 를 이용한 Table 변환"
   ]
  },
  {
   "cell_type": "markdown",
   "metadata": {},
   "source": [
    "# Gather function example:"
   ]
  },
  {
   "cell_type": "code",
   "execution_count": 20,
   "metadata": {},
   "outputs": [
    {
     "data": {
      "text/html": [
       "<table>\n",
       "<thead><tr><th scope=col>Sepal.Length</th><th scope=col>Sepal.Width</th><th scope=col>Petal.Length</th><th scope=col>Petal.Width</th><th scope=col>Species</th></tr></thead>\n",
       "<tbody>\n",
       "\t<tr><td>5.1   </td><td>3.5   </td><td>1.4   </td><td>0.2   </td><td>setosa</td></tr>\n",
       "\t<tr><td>4.9   </td><td>3.0   </td><td>1.4   </td><td>0.2   </td><td>setosa</td></tr>\n",
       "\t<tr><td>4.7   </td><td>3.2   </td><td>1.3   </td><td>0.2   </td><td>setosa</td></tr>\n",
       "\t<tr><td>4.6   </td><td>3.1   </td><td>1.5   </td><td>0.2   </td><td>setosa</td></tr>\n",
       "\t<tr><td>5.0   </td><td>3.6   </td><td>1.4   </td><td>0.2   </td><td>setosa</td></tr>\n",
       "\t<tr><td>5.4   </td><td>3.9   </td><td>1.7   </td><td>0.4   </td><td>setosa</td></tr>\n",
       "</tbody>\n",
       "</table>\n"
      ],
      "text/latex": [
       "\\begin{tabular}{r|lllll}\n",
       " Sepal.Length & Sepal.Width & Petal.Length & Petal.Width & Species\\\\\n",
       "\\hline\n",
       "\t 5.1    & 3.5    & 1.4    & 0.2    & setosa\\\\\n",
       "\t 4.9    & 3.0    & 1.4    & 0.2    & setosa\\\\\n",
       "\t 4.7    & 3.2    & 1.3    & 0.2    & setosa\\\\\n",
       "\t 4.6    & 3.1    & 1.5    & 0.2    & setosa\\\\\n",
       "\t 5.0    & 3.6    & 1.4    & 0.2    & setosa\\\\\n",
       "\t 5.4    & 3.9    & 1.7    & 0.4    & setosa\\\\\n",
       "\\end{tabular}\n"
      ],
      "text/markdown": [
       "\n",
       "| Sepal.Length | Sepal.Width | Petal.Length | Petal.Width | Species |\n",
       "|---|---|---|---|---|\n",
       "| 5.1    | 3.5    | 1.4    | 0.2    | setosa |\n",
       "| 4.9    | 3.0    | 1.4    | 0.2    | setosa |\n",
       "| 4.7    | 3.2    | 1.3    | 0.2    | setosa |\n",
       "| 4.6    | 3.1    | 1.5    | 0.2    | setosa |\n",
       "| 5.0    | 3.6    | 1.4    | 0.2    | setosa |\n",
       "| 5.4    | 3.9    | 1.7    | 0.4    | setosa |\n",
       "\n"
      ],
      "text/plain": [
       "  Sepal.Length Sepal.Width Petal.Length Petal.Width Species\n",
       "1 5.1          3.5         1.4          0.2         setosa \n",
       "2 4.9          3.0         1.4          0.2         setosa \n",
       "3 4.7          3.2         1.3          0.2         setosa \n",
       "4 4.6          3.1         1.5          0.2         setosa \n",
       "5 5.0          3.6         1.4          0.2         setosa \n",
       "6 5.4          3.9         1.7          0.4         setosa "
      ]
     },
     "metadata": {},
     "output_type": "display_data"
    }
   ],
   "source": [
    "library(datasets)\n",
    "data(iris)\n",
    "head(iris)"
   ]
  },
  {
   "cell_type": "code",
   "execution_count": 21,
   "metadata": {},
   "outputs": [],
   "source": [
    "library(tidyr)\n",
    "library(dplyr)"
   ]
  },
  {
   "cell_type": "code",
   "execution_count": 31,
   "metadata": {
    "scrolled": false
   },
   "outputs": [
    {
     "data": {
      "text/html": [
       "<table>\n",
       "<thead><tr><th scope=col>Species</th><th scope=col>attr</th><th scope=col>measure</th></tr></thead>\n",
       "<tbody>\n",
       "\t<tr><td>setosa      </td><td>Sepal.Length</td><td>5.1         </td></tr>\n",
       "\t<tr><td>setosa      </td><td>Sepal.Length</td><td>4.9         </td></tr>\n",
       "\t<tr><td>setosa      </td><td>Sepal.Length</td><td>4.7         </td></tr>\n",
       "\t<tr><td>setosa      </td><td>Sepal.Length</td><td>4.6         </td></tr>\n",
       "\t<tr><td>setosa      </td><td>Sepal.Length</td><td>5.0         </td></tr>\n",
       "\t<tr><td>setosa      </td><td>Sepal.Length</td><td>5.4         </td></tr>\n",
       "</tbody>\n",
       "</table>\n"
      ],
      "text/latex": [
       "\\begin{tabular}{r|lll}\n",
       " Species & attr & measure\\\\\n",
       "\\hline\n",
       "\t setosa       & Sepal.Length & 5.1         \\\\\n",
       "\t setosa       & Sepal.Length & 4.9         \\\\\n",
       "\t setosa       & Sepal.Length & 4.7         \\\\\n",
       "\t setosa       & Sepal.Length & 4.6         \\\\\n",
       "\t setosa       & Sepal.Length & 5.0         \\\\\n",
       "\t setosa       & Sepal.Length & 5.4         \\\\\n",
       "\\end{tabular}\n"
      ],
      "text/markdown": [
       "\n",
       "| Species | attr | measure |\n",
       "|---|---|---|\n",
       "| setosa       | Sepal.Length | 5.1          |\n",
       "| setosa       | Sepal.Length | 4.9          |\n",
       "| setosa       | Sepal.Length | 4.7          |\n",
       "| setosa       | Sepal.Length | 4.6          |\n",
       "| setosa       | Sepal.Length | 5.0          |\n",
       "| setosa       | Sepal.Length | 5.4          |\n",
       "\n"
      ],
      "text/plain": [
       "  Species attr         measure\n",
       "1 setosa  Sepal.Length 5.1    \n",
       "2 setosa  Sepal.Length 4.9    \n",
       "3 setosa  Sepal.Length 4.7    \n",
       "4 setosa  Sepal.Length 4.6    \n",
       "5 setosa  Sepal.Length 5.0    \n",
       "6 setosa  Sepal.Length 5.4    "
      ]
     },
     "metadata": {},
     "output_type": "display_data"
    },
    {
     "data": {
      "text/html": [
       "<table>\n",
       "<thead><tr><th scope=col>Petal.Length</th><th scope=col>Petal.Width</th><th scope=col>Species</th><th scope=col>attr</th><th scope=col>measure</th></tr></thead>\n",
       "<tbody>\n",
       "\t<tr><td>1.4         </td><td>0.2         </td><td>setosa      </td><td>Sepal.Length</td><td>5.1         </td></tr>\n",
       "\t<tr><td>1.4         </td><td>0.2         </td><td>setosa      </td><td>Sepal.Length</td><td>4.9         </td></tr>\n",
       "\t<tr><td>1.3         </td><td>0.2         </td><td>setosa      </td><td>Sepal.Length</td><td>4.7         </td></tr>\n",
       "\t<tr><td>1.5         </td><td>0.2         </td><td>setosa      </td><td>Sepal.Length</td><td>4.6         </td></tr>\n",
       "\t<tr><td>1.4         </td><td>0.2         </td><td>setosa      </td><td>Sepal.Length</td><td>5.0         </td></tr>\n",
       "\t<tr><td>1.7         </td><td>0.4         </td><td>setosa      </td><td>Sepal.Length</td><td>5.4         </td></tr>\n",
       "</tbody>\n",
       "</table>\n"
      ],
      "text/latex": [
       "\\begin{tabular}{r|lllll}\n",
       " Petal.Length & Petal.Width & Species & attr & measure\\\\\n",
       "\\hline\n",
       "\t 1.4          & 0.2          & setosa       & Sepal.Length & 5.1         \\\\\n",
       "\t 1.4          & 0.2          & setosa       & Sepal.Length & 4.9         \\\\\n",
       "\t 1.3          & 0.2          & setosa       & Sepal.Length & 4.7         \\\\\n",
       "\t 1.5          & 0.2          & setosa       & Sepal.Length & 4.6         \\\\\n",
       "\t 1.4          & 0.2          & setosa       & Sepal.Length & 5.0         \\\\\n",
       "\t 1.7          & 0.4          & setosa       & Sepal.Length & 5.4         \\\\\n",
       "\\end{tabular}\n"
      ],
      "text/markdown": [
       "\n",
       "| Petal.Length | Petal.Width | Species | attr | measure |\n",
       "|---|---|---|---|---|\n",
       "| 1.4          | 0.2          | setosa       | Sepal.Length | 5.1          |\n",
       "| 1.4          | 0.2          | setosa       | Sepal.Length | 4.9          |\n",
       "| 1.3          | 0.2          | setosa       | Sepal.Length | 4.7          |\n",
       "| 1.5          | 0.2          | setosa       | Sepal.Length | 4.6          |\n",
       "| 1.4          | 0.2          | setosa       | Sepal.Length | 5.0          |\n",
       "| 1.7          | 0.4          | setosa       | Sepal.Length | 5.4          |\n",
       "\n"
      ],
      "text/plain": [
       "  Petal.Length Petal.Width Species attr         measure\n",
       "1 1.4          0.2         setosa  Sepal.Length 5.1    \n",
       "2 1.4          0.2         setosa  Sepal.Length 4.9    \n",
       "3 1.3          0.2         setosa  Sepal.Length 4.7    \n",
       "4 1.5          0.2         setosa  Sepal.Length 4.6    \n",
       "5 1.4          0.2         setosa  Sepal.Length 5.0    \n",
       "6 1.7          0.4         setosa  Sepal.Length 5.4    "
      ]
     },
     "metadata": {},
     "output_type": "display_data"
    }
   ],
   "source": [
    "head(gather(iris,key=\"attr\", value=\"measure\", -Species))\n",
    "# 나머지는 자연스럽게 (+) 가 붙는 식\n",
    "\n",
    "head(gather(iris,key=\"attr\", value=\"measure\", Sepal.Length, Sepal.Width))\n",
    "# 나머지는 자연스럽게 (-) 가 붙는 식"
   ]
  },
  {
   "cell_type": "markdown",
   "metadata": {},
   "source": [
    "# Group_by function example:"
   ]
  },
  {
   "cell_type": "code",
   "execution_count": 24,
   "metadata": {},
   "outputs": [],
   "source": [
    "df.new = iris %>% gather(key=\"attr\", value=\"measure\", -Species)"
   ]
  },
  {
   "cell_type": "code",
   "execution_count": 25,
   "metadata": {},
   "outputs": [
    {
     "data": {
      "text/html": [
       "<table>\n",
       "<thead><tr><th scope=col>Species</th><th scope=col>attr</th><th scope=col>measure</th></tr></thead>\n",
       "<tbody>\n",
       "\t<tr><td>setosa      </td><td>Sepal.Length</td><td>5.1         </td></tr>\n",
       "\t<tr><td>setosa      </td><td>Sepal.Length</td><td>4.9         </td></tr>\n",
       "\t<tr><td>setosa      </td><td>Sepal.Length</td><td>4.7         </td></tr>\n",
       "\t<tr><td>setosa      </td><td>Sepal.Length</td><td>4.6         </td></tr>\n",
       "\t<tr><td>setosa      </td><td>Sepal.Length</td><td>5.0         </td></tr>\n",
       "\t<tr><td>setosa      </td><td>Sepal.Length</td><td>5.4         </td></tr>\n",
       "</tbody>\n",
       "</table>\n"
      ],
      "text/latex": [
       "\\begin{tabular}{r|lll}\n",
       " Species & attr & measure\\\\\n",
       "\\hline\n",
       "\t setosa       & Sepal.Length & 5.1         \\\\\n",
       "\t setosa       & Sepal.Length & 4.9         \\\\\n",
       "\t setosa       & Sepal.Length & 4.7         \\\\\n",
       "\t setosa       & Sepal.Length & 4.6         \\\\\n",
       "\t setosa       & Sepal.Length & 5.0         \\\\\n",
       "\t setosa       & Sepal.Length & 5.4         \\\\\n",
       "\\end{tabular}\n"
      ],
      "text/markdown": [
       "\n",
       "| Species | attr | measure |\n",
       "|---|---|---|\n",
       "| setosa       | Sepal.Length | 5.1          |\n",
       "| setosa       | Sepal.Length | 4.9          |\n",
       "| setosa       | Sepal.Length | 4.7          |\n",
       "| setosa       | Sepal.Length | 4.6          |\n",
       "| setosa       | Sepal.Length | 5.0          |\n",
       "| setosa       | Sepal.Length | 5.4          |\n",
       "\n"
      ],
      "text/plain": [
       "  Species attr         measure\n",
       "1 setosa  Sepal.Length 5.1    \n",
       "2 setosa  Sepal.Length 4.9    \n",
       "3 setosa  Sepal.Length 4.7    \n",
       "4 setosa  Sepal.Length 4.6    \n",
       "5 setosa  Sepal.Length 5.0    \n",
       "6 setosa  Sepal.Length 5.4    "
      ]
     },
     "metadata": {},
     "output_type": "display_data"
    }
   ],
   "source": [
    "head(df.new)"
   ]
  },
  {
   "cell_type": "code",
   "execution_count": 27,
   "metadata": {},
   "outputs": [
    {
     "data": {
      "text/html": [
       "<table>\n",
       "<thead><tr><th scope=col>mean_measure</th></tr></thead>\n",
       "<tbody>\n",
       "\t<tr><td>3.4645</td></tr>\n",
       "</tbody>\n",
       "</table>\n"
      ],
      "text/latex": [
       "\\begin{tabular}{r|l}\n",
       " mean\\_measure\\\\\n",
       "\\hline\n",
       "\t 3.4645\\\\\n",
       "\\end{tabular}\n"
      ],
      "text/markdown": [
       "\n",
       "| mean_measure |\n",
       "|---|\n",
       "| 3.4645 |\n",
       "\n"
      ],
      "text/plain": [
       "  mean_measure\n",
       "1 3.4645      "
      ]
     },
     "metadata": {},
     "output_type": "display_data"
    }
   ],
   "source": [
    "df.new %>% summarise(\n",
    "    mean_measure = mean(measure)\n",
    ")"
   ]
  },
  {
   "cell_type": "code",
   "execution_count": 29,
   "metadata": {},
   "outputs": [
    {
     "name": "stderr",
     "output_type": "stream",
     "text": [
      "`summarise()` ungrouping output (override with `.groups` argument)\n"
     ]
    },
    {
     "data": {
      "text/html": [
       "<table>\n",
       "<thead><tr><th scope=col>Species</th><th scope=col>mean_measure</th></tr></thead>\n",
       "<tbody>\n",
       "\t<tr><td>setosa    </td><td>2.5355    </td></tr>\n",
       "\t<tr><td>versicolor</td><td>3.5730    </td></tr>\n",
       "\t<tr><td>virginica </td><td>4.2850    </td></tr>\n",
       "</tbody>\n",
       "</table>\n"
      ],
      "text/latex": [
       "\\begin{tabular}{r|ll}\n",
       " Species & mean\\_measure\\\\\n",
       "\\hline\n",
       "\t setosa     & 2.5355    \\\\\n",
       "\t versicolor & 3.5730    \\\\\n",
       "\t virginica  & 4.2850    \\\\\n",
       "\\end{tabular}\n"
      ],
      "text/markdown": [
       "\n",
       "| Species | mean_measure |\n",
       "|---|---|\n",
       "| setosa     | 2.5355     |\n",
       "| versicolor | 3.5730     |\n",
       "| virginica  | 4.2850     |\n",
       "\n"
      ],
      "text/plain": [
       "  Species    mean_measure\n",
       "1 setosa     2.5355      \n",
       "2 versicolor 3.5730      \n",
       "3 virginica  4.2850      "
      ]
     },
     "metadata": {},
     "output_type": "display_data"
    }
   ],
   "source": [
    "df.new %>% group_by(Species) %>% summarise (\n",
    "    mean_measure = mean(measure)\n",
    ")"
   ]
  },
  {
   "cell_type": "code",
   "execution_count": 30,
   "metadata": {},
   "outputs": [
    {
     "name": "stderr",
     "output_type": "stream",
     "text": [
      "`summarise()` regrouping output by 'Species' (override with `.groups` argument)\n"
     ]
    },
    {
     "data": {
      "text/html": [
       "<table>\n",
       "<thead><tr><th scope=col>Species</th><th scope=col>attr</th><th scope=col>mean_measure</th></tr></thead>\n",
       "<tbody>\n",
       "\t<tr><td>setosa      </td><td>Petal.Length</td><td>1.462       </td></tr>\n",
       "\t<tr><td>setosa      </td><td>Petal.Width </td><td>0.246       </td></tr>\n",
       "\t<tr><td>setosa      </td><td>Sepal.Length</td><td>5.006       </td></tr>\n",
       "\t<tr><td>setosa      </td><td>Sepal.Width </td><td>3.428       </td></tr>\n",
       "\t<tr><td>versicolor  </td><td>Petal.Length</td><td>4.260       </td></tr>\n",
       "\t<tr><td>versicolor  </td><td>Petal.Width </td><td>1.326       </td></tr>\n",
       "\t<tr><td>versicolor  </td><td>Sepal.Length</td><td>5.936       </td></tr>\n",
       "\t<tr><td>versicolor  </td><td>Sepal.Width </td><td>2.770       </td></tr>\n",
       "\t<tr><td>virginica   </td><td>Petal.Length</td><td>5.552       </td></tr>\n",
       "\t<tr><td>virginica   </td><td>Petal.Width </td><td>2.026       </td></tr>\n",
       "\t<tr><td>virginica   </td><td>Sepal.Length</td><td>6.588       </td></tr>\n",
       "\t<tr><td>virginica   </td><td>Sepal.Width </td><td>2.974       </td></tr>\n",
       "</tbody>\n",
       "</table>\n"
      ],
      "text/latex": [
       "\\begin{tabular}{r|lll}\n",
       " Species & attr & mean\\_measure\\\\\n",
       "\\hline\n",
       "\t setosa       & Petal.Length & 1.462       \\\\\n",
       "\t setosa       & Petal.Width  & 0.246       \\\\\n",
       "\t setosa       & Sepal.Length & 5.006       \\\\\n",
       "\t setosa       & Sepal.Width  & 3.428       \\\\\n",
       "\t versicolor   & Petal.Length & 4.260       \\\\\n",
       "\t versicolor   & Petal.Width  & 1.326       \\\\\n",
       "\t versicolor   & Sepal.Length & 5.936       \\\\\n",
       "\t versicolor   & Sepal.Width  & 2.770       \\\\\n",
       "\t virginica    & Petal.Length & 5.552       \\\\\n",
       "\t virginica    & Petal.Width  & 2.026       \\\\\n",
       "\t virginica    & Sepal.Length & 6.588       \\\\\n",
       "\t virginica    & Sepal.Width  & 2.974       \\\\\n",
       "\\end{tabular}\n"
      ],
      "text/markdown": [
       "\n",
       "| Species | attr | mean_measure |\n",
       "|---|---|---|\n",
       "| setosa       | Petal.Length | 1.462        |\n",
       "| setosa       | Petal.Width  | 0.246        |\n",
       "| setosa       | Sepal.Length | 5.006        |\n",
       "| setosa       | Sepal.Width  | 3.428        |\n",
       "| versicolor   | Petal.Length | 4.260        |\n",
       "| versicolor   | Petal.Width  | 1.326        |\n",
       "| versicolor   | Sepal.Length | 5.936        |\n",
       "| versicolor   | Sepal.Width  | 2.770        |\n",
       "| virginica    | Petal.Length | 5.552        |\n",
       "| virginica    | Petal.Width  | 2.026        |\n",
       "| virginica    | Sepal.Length | 6.588        |\n",
       "| virginica    | Sepal.Width  | 2.974        |\n",
       "\n"
      ],
      "text/plain": [
       "   Species    attr         mean_measure\n",
       "1  setosa     Petal.Length 1.462       \n",
       "2  setosa     Petal.Width  0.246       \n",
       "3  setosa     Sepal.Length 5.006       \n",
       "4  setosa     Sepal.Width  3.428       \n",
       "5  versicolor Petal.Length 4.260       \n",
       "6  versicolor Petal.Width  1.326       \n",
       "7  versicolor Sepal.Length 5.936       \n",
       "8  versicolor Sepal.Width  2.770       \n",
       "9  virginica  Petal.Length 5.552       \n",
       "10 virginica  Petal.Width  2.026       \n",
       "11 virginica  Sepal.Length 6.588       \n",
       "12 virginica  Sepal.Width  2.974       "
      ]
     },
     "metadata": {},
     "output_type": "display_data"
    }
   ],
   "source": [
    "df.new %>% group_by(Species, attr) %>% summarise (\n",
    "    mean_measure = mean(measure)\n",
    ")"
   ]
  },
  {
   "cell_type": "markdown",
   "metadata": {},
   "source": [
    "# Table -> Key-value pair > Table"
   ]
  },
  {
   "cell_type": "code",
   "execution_count": 42,
   "metadata": {},
   "outputs": [
    {
     "data": {
      "text/html": [
       "<table>\n",
       "<thead><tr><th scope=col>Sepal.Length</th><th scope=col>Sepal.Width</th><th scope=col>Petal.Length</th><th scope=col>Petal.Width</th><th scope=col>Species</th></tr></thead>\n",
       "<tbody>\n",
       "\t<tr><td>5.1   </td><td>3.5   </td><td>1.4   </td><td>0.2   </td><td>setosa</td></tr>\n",
       "\t<tr><td>4.9   </td><td>3.0   </td><td>1.4   </td><td>0.2   </td><td>setosa</td></tr>\n",
       "\t<tr><td>4.7   </td><td>3.2   </td><td>1.3   </td><td>0.2   </td><td>setosa</td></tr>\n",
       "\t<tr><td>4.6   </td><td>3.1   </td><td>1.5   </td><td>0.2   </td><td>setosa</td></tr>\n",
       "\t<tr><td>5.0   </td><td>3.6   </td><td>1.4   </td><td>0.2   </td><td>setosa</td></tr>\n",
       "\t<tr><td>5.4   </td><td>3.9   </td><td>1.7   </td><td>0.4   </td><td>setosa</td></tr>\n",
       "</tbody>\n",
       "</table>\n"
      ],
      "text/latex": [
       "\\begin{tabular}{r|lllll}\n",
       " Sepal.Length & Sepal.Width & Petal.Length & Petal.Width & Species\\\\\n",
       "\\hline\n",
       "\t 5.1    & 3.5    & 1.4    & 0.2    & setosa\\\\\n",
       "\t 4.9    & 3.0    & 1.4    & 0.2    & setosa\\\\\n",
       "\t 4.7    & 3.2    & 1.3    & 0.2    & setosa\\\\\n",
       "\t 4.6    & 3.1    & 1.5    & 0.2    & setosa\\\\\n",
       "\t 5.0    & 3.6    & 1.4    & 0.2    & setosa\\\\\n",
       "\t 5.4    & 3.9    & 1.7    & 0.4    & setosa\\\\\n",
       "\\end{tabular}\n"
      ],
      "text/markdown": [
       "\n",
       "| Sepal.Length | Sepal.Width | Petal.Length | Petal.Width | Species |\n",
       "|---|---|---|---|---|\n",
       "| 5.1    | 3.5    | 1.4    | 0.2    | setosa |\n",
       "| 4.9    | 3.0    | 1.4    | 0.2    | setosa |\n",
       "| 4.7    | 3.2    | 1.3    | 0.2    | setosa |\n",
       "| 4.6    | 3.1    | 1.5    | 0.2    | setosa |\n",
       "| 5.0    | 3.6    | 1.4    | 0.2    | setosa |\n",
       "| 5.4    | 3.9    | 1.7    | 0.4    | setosa |\n",
       "\n"
      ],
      "text/plain": [
       "  Sepal.Length Sepal.Width Petal.Length Petal.Width Species\n",
       "1 5.1          3.5         1.4          0.2         setosa \n",
       "2 4.9          3.0         1.4          0.2         setosa \n",
       "3 4.7          3.2         1.3          0.2         setosa \n",
       "4 4.6          3.1         1.5          0.2         setosa \n",
       "5 5.0          3.6         1.4          0.2         setosa \n",
       "6 5.4          3.9         1.7          0.4         setosa "
      ]
     },
     "metadata": {},
     "output_type": "display_data"
    },
    {
     "data": {
      "text/html": [
       "<table>\n",
       "<thead><tr><th scope=col>idx</th><th scope=col>Sepal.Length</th><th scope=col>Sepal.Width</th><th scope=col>Petal.Length</th><th scope=col>Petal.Width</th><th scope=col>Species</th></tr></thead>\n",
       "<tbody>\n",
       "\t<tr><td>1     </td><td>5.1   </td><td>3.5   </td><td>1.4   </td><td>0.2   </td><td>setosa</td></tr>\n",
       "\t<tr><td>2     </td><td>4.9   </td><td>3.0   </td><td>1.4   </td><td>0.2   </td><td>setosa</td></tr>\n",
       "\t<tr><td>3     </td><td>4.7   </td><td>3.2   </td><td>1.3   </td><td>0.2   </td><td>setosa</td></tr>\n",
       "\t<tr><td>4     </td><td>4.6   </td><td>3.1   </td><td>1.5   </td><td>0.2   </td><td>setosa</td></tr>\n",
       "\t<tr><td>5     </td><td>5.0   </td><td>3.6   </td><td>1.4   </td><td>0.2   </td><td>setosa</td></tr>\n",
       "\t<tr><td>6     </td><td>5.4   </td><td>3.9   </td><td>1.7   </td><td>0.4   </td><td>setosa</td></tr>\n",
       "</tbody>\n",
       "</table>\n"
      ],
      "text/latex": [
       "\\begin{tabular}{r|llllll}\n",
       " idx & Sepal.Length & Sepal.Width & Petal.Length & Petal.Width & Species\\\\\n",
       "\\hline\n",
       "\t 1      & 5.1    & 3.5    & 1.4    & 0.2    & setosa\\\\\n",
       "\t 2      & 4.9    & 3.0    & 1.4    & 0.2    & setosa\\\\\n",
       "\t 3      & 4.7    & 3.2    & 1.3    & 0.2    & setosa\\\\\n",
       "\t 4      & 4.6    & 3.1    & 1.5    & 0.2    & setosa\\\\\n",
       "\t 5      & 5.0    & 3.6    & 1.4    & 0.2    & setosa\\\\\n",
       "\t 6      & 5.4    & 3.9    & 1.7    & 0.4    & setosa\\\\\n",
       "\\end{tabular}\n"
      ],
      "text/markdown": [
       "\n",
       "| idx | Sepal.Length | Sepal.Width | Petal.Length | Petal.Width | Species |\n",
       "|---|---|---|---|---|---|\n",
       "| 1      | 5.1    | 3.5    | 1.4    | 0.2    | setosa |\n",
       "| 2      | 4.9    | 3.0    | 1.4    | 0.2    | setosa |\n",
       "| 3      | 4.7    | 3.2    | 1.3    | 0.2    | setosa |\n",
       "| 4      | 4.6    | 3.1    | 1.5    | 0.2    | setosa |\n",
       "| 5      | 5.0    | 3.6    | 1.4    | 0.2    | setosa |\n",
       "| 6      | 5.4    | 3.9    | 1.7    | 0.4    | setosa |\n",
       "\n"
      ],
      "text/plain": [
       "  idx Sepal.Length Sepal.Width Petal.Length Petal.Width Species\n",
       "1 1   5.1          3.5         1.4          0.2         setosa \n",
       "2 2   4.9          3.0         1.4          0.2         setosa \n",
       "3 3   4.7          3.2         1.3          0.2         setosa \n",
       "4 4   4.6          3.1         1.5          0.2         setosa \n",
       "5 5   5.0          3.6         1.4          0.2         setosa \n",
       "6 6   5.4          3.9         1.7          0.4         setosa "
      ]
     },
     "metadata": {},
     "output_type": "display_data"
    },
    {
     "name": "stderr",
     "output_type": "stream",
     "text": [
      "Warning message:\n",
      "\"attributes are not identical across measure variables;\n",
      "they will be dropped\""
     ]
    }
   ],
   "source": [
    "head(iris)\n",
    "head(iris %>% mutate(idx=row_number()) %>% relocate(idx))\n",
    "# relocate: 해당 컬럼을 맨 좌측으로 옮김\n",
    "kv_table = iris %>% mutate(idx=row_number()) %>% relocate(idx) %>% \n",
    "            gather(key=\"key\", value=\"value\", -idx)"
   ]
  },
  {
   "cell_type": "code",
   "execution_count": 43,
   "metadata": {},
   "outputs": [
    {
     "data": {
      "text/html": [
       "<table>\n",
       "<thead><tr><th scope=col>idx</th><th scope=col>key</th><th scope=col>value</th></tr></thead>\n",
       "<tbody>\n",
       "\t<tr><td>1           </td><td>Sepal.Length</td><td>5.1         </td></tr>\n",
       "\t<tr><td>2           </td><td>Sepal.Length</td><td>4.9         </td></tr>\n",
       "\t<tr><td>3           </td><td>Sepal.Length</td><td>4.7         </td></tr>\n",
       "\t<tr><td>4           </td><td>Sepal.Length</td><td>4.6         </td></tr>\n",
       "\t<tr><td>5           </td><td>Sepal.Length</td><td>5           </td></tr>\n",
       "\t<tr><td>6           </td><td>Sepal.Length</td><td>5.4         </td></tr>\n",
       "</tbody>\n",
       "</table>\n"
      ],
      "text/latex": [
       "\\begin{tabular}{r|lll}\n",
       " idx & key & value\\\\\n",
       "\\hline\n",
       "\t 1            & Sepal.Length & 5.1         \\\\\n",
       "\t 2            & Sepal.Length & 4.9         \\\\\n",
       "\t 3            & Sepal.Length & 4.7         \\\\\n",
       "\t 4            & Sepal.Length & 4.6         \\\\\n",
       "\t 5            & Sepal.Length & 5           \\\\\n",
       "\t 6            & Sepal.Length & 5.4         \\\\\n",
       "\\end{tabular}\n"
      ],
      "text/markdown": [
       "\n",
       "| idx | key | value |\n",
       "|---|---|---|\n",
       "| 1            | Sepal.Length | 5.1          |\n",
       "| 2            | Sepal.Length | 4.9          |\n",
       "| 3            | Sepal.Length | 4.7          |\n",
       "| 4            | Sepal.Length | 4.6          |\n",
       "| 5            | Sepal.Length | 5            |\n",
       "| 6            | Sepal.Length | 5.4          |\n",
       "\n"
      ],
      "text/plain": [
       "  idx key          value\n",
       "1 1   Sepal.Length 5.1  \n",
       "2 2   Sepal.Length 4.9  \n",
       "3 3   Sepal.Length 4.7  \n",
       "4 4   Sepal.Length 4.6  \n",
       "5 5   Sepal.Length 5    \n",
       "6 6   Sepal.Length 5.4  "
      ]
     },
     "metadata": {},
     "output_type": "display_data"
    }
   ],
   "source": [
    "head(kv_table)"
   ]
  },
  {
   "cell_type": "code",
   "execution_count": 45,
   "metadata": {},
   "outputs": [
    {
     "data": {
      "text/html": [
       "<table>\n",
       "<thead><tr><th scope=col>idx</th><th scope=col>Sepal.Length</th><th scope=col>Sepal.Width</th><th scope=col>Petal.Length</th><th scope=col>Petal.Width</th><th scope=col>Species</th></tr></thead>\n",
       "<tbody>\n",
       "\t<tr><td>1     </td><td>5.1   </td><td>3.5   </td><td>1.4   </td><td>0.2   </td><td>setosa</td></tr>\n",
       "\t<tr><td>2     </td><td>4.9   </td><td>3     </td><td>1.4   </td><td>0.2   </td><td>setosa</td></tr>\n",
       "\t<tr><td>3     </td><td>4.7   </td><td>3.2   </td><td>1.3   </td><td>0.2   </td><td>setosa</td></tr>\n",
       "\t<tr><td>4     </td><td>4.6   </td><td>3.1   </td><td>1.5   </td><td>0.2   </td><td>setosa</td></tr>\n",
       "\t<tr><td>5     </td><td>5     </td><td>3.6   </td><td>1.4   </td><td>0.2   </td><td>setosa</td></tr>\n",
       "\t<tr><td>6     </td><td>5.4   </td><td>3.9   </td><td>1.7   </td><td>0.4   </td><td>setosa</td></tr>\n",
       "</tbody>\n",
       "</table>\n"
      ],
      "text/latex": [
       "\\begin{tabular}{r|llllll}\n",
       " idx & Sepal.Length & Sepal.Width & Petal.Length & Petal.Width & Species\\\\\n",
       "\\hline\n",
       "\t 1      & 5.1    & 3.5    & 1.4    & 0.2    & setosa\\\\\n",
       "\t 2      & 4.9    & 3      & 1.4    & 0.2    & setosa\\\\\n",
       "\t 3      & 4.7    & 3.2    & 1.3    & 0.2    & setosa\\\\\n",
       "\t 4      & 4.6    & 3.1    & 1.5    & 0.2    & setosa\\\\\n",
       "\t 5      & 5      & 3.6    & 1.4    & 0.2    & setosa\\\\\n",
       "\t 6      & 5.4    & 3.9    & 1.7    & 0.4    & setosa\\\\\n",
       "\\end{tabular}\n"
      ],
      "text/markdown": [
       "\n",
       "| idx | Sepal.Length | Sepal.Width | Petal.Length | Petal.Width | Species |\n",
       "|---|---|---|---|---|---|\n",
       "| 1      | 5.1    | 3.5    | 1.4    | 0.2    | setosa |\n",
       "| 2      | 4.9    | 3      | 1.4    | 0.2    | setosa |\n",
       "| 3      | 4.7    | 3.2    | 1.3    | 0.2    | setosa |\n",
       "| 4      | 4.6    | 3.1    | 1.5    | 0.2    | setosa |\n",
       "| 5      | 5      | 3.6    | 1.4    | 0.2    | setosa |\n",
       "| 6      | 5.4    | 3.9    | 1.7    | 0.4    | setosa |\n",
       "\n"
      ],
      "text/plain": [
       "  idx Sepal.Length Sepal.Width Petal.Length Petal.Width Species\n",
       "1 1   5.1          3.5         1.4          0.2         setosa \n",
       "2 2   4.9          3           1.4          0.2         setosa \n",
       "3 3   4.7          3.2         1.3          0.2         setosa \n",
       "4 4   4.6          3.1         1.5          0.2         setosa \n",
       "5 5   5            3.6         1.4          0.2         setosa \n",
       "6 6   5.4          3.9         1.7          0.4         setosa "
      ]
     },
     "metadata": {},
     "output_type": "display_data"
    }
   ],
   "source": [
    "df = kv_table %>% spread(key=\"key\",value=\"value\") %>% relocate(idx,Sepal.Length,Sepal.Width)\n",
    "head(df)"
   ]
  },
  {
   "cell_type": "markdown",
   "metadata": {},
   "source": [
    "# 그 외,  separate_rows, separate, unite\n",
    "# 결측치 다루기: drop_na, fill, replace_na"
   ]
  },
  {
   "cell_type": "code",
   "execution_count": null,
   "metadata": {},
   "outputs": [],
   "source": []
  }
 ],
 "metadata": {
  "kernelspec": {
   "display_name": "R",
   "language": "R",
   "name": "ir"
  },
  "language_info": {
   "codemirror_mode": "r",
   "file_extension": ".r",
   "mimetype": "text/x-r-source",
   "name": "R",
   "pygments_lexer": "r",
   "version": "3.6.3"
  }
 },
 "nbformat": 4,
 "nbformat_minor": 4
}
